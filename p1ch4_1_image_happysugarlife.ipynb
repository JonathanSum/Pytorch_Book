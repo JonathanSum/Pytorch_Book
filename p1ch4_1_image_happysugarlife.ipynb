{
  "nbformat": 4,
  "nbformat_minor": 0,
  "metadata": {
    "kernelspec": {
      "display_name": "Python 3",
      "language": "python",
      "name": "python3"
    },
    "language_info": {
      "codemirror_mode": {
        "name": "ipython",
        "version": 3
      },
      "file_extension": ".py",
      "mimetype": "text/x-python",
      "name": "python",
      "nbconvert_exporter": "python",
      "pygments_lexer": "ipython3",
      "version": "3.7.6"
    },
    "colab": {
      "name": "p1ch4_1_image_happysugarlife.ipynb",
      "provenance": [],
      "collapsed_sections": [],
      "toc_visible": true,
      "include_colab_link": true
    }
  },
  "cells": [
    {
      "cell_type": "markdown",
      "metadata": {
        "id": "view-in-github",
        "colab_type": "text"
      },
      "source": [
        "<a href=\"https://colab.research.google.com/github/JonathanSum/dlwpt-code_Colab/blob/master/p1ch4_1_image_happysugarlife.ipynb\" target=\"_parent\"><img src=\"https://colab.research.google.com/assets/colab-badge.svg\" alt=\"Open In Colab\"/></a>"
      ]
    },
    {
      "cell_type": "code",
      "metadata": {
        "id": "4jhy8xTPmpDV",
        "colab_type": "code",
        "colab": {}
      },
      "source": [
        "import numpy as np\n",
        "import torch\n",
        "torch.set_printoptions(edgeitems=2, threshold=50)"
      ],
      "execution_count": 1,
      "outputs": []
    },
    {
      "cell_type": "code",
      "metadata": {
        "id": "Usp6-9vSnaZk",
        "colab_type": "code",
        "colab": {
          "base_uri": "https://localhost:8080/",
          "height": 440
        },
        "outputId": "696af310-8cd3-40b9-a807-c4063ef73278"
      },
      "source": [
        "!wget -O happysugarlife.7z https://www.dropbox.com/s/hii00hqj9s1s7m6/Happy%20Sugar%20Life.7z?dl=0"
      ],
      "execution_count": 2,
      "outputs": [
        {
          "output_type": "stream",
          "text": [
            "--2020-07-07 14:16:15--  https://www.dropbox.com/s/hii00hqj9s1s7m6/Happy%20Sugar%20Life.7z?dl=0\n",
            "Resolving www.dropbox.com (www.dropbox.com)... 162.125.5.1, 2620:100:601d:1::a27d:501\n",
            "Connecting to www.dropbox.com (www.dropbox.com)|162.125.5.1|:443... connected.\n",
            "HTTP request sent, awaiting response... 301 Moved Permanently\n",
            "Location: /s/raw/hii00hqj9s1s7m6/Happy%20Sugar%20Life.7z [following]\n",
            "--2020-07-07 14:16:15--  https://www.dropbox.com/s/raw/hii00hqj9s1s7m6/Happy%20Sugar%20Life.7z\n",
            "Reusing existing connection to www.dropbox.com:443.\n",
            "HTTP request sent, awaiting response... 302 Found\n",
            "Location: https://uc6935041df1672aa6acdfd68b94.dl.dropboxusercontent.com/cd/0/inline/A7GYQf9JsgvhHnf9Q25j02mSiGYtmzFK16hroqkYAKAqxL_P78RWZiOz0-wXKAgPjBiUL_289a4qbIsk6nQNmcg_MTHUYKnlc7hv-ixrNJhw3zJ9WbucAb0_gG9D5oQXLfE/file# [following]\n",
            "--2020-07-07 14:16:15--  https://uc6935041df1672aa6acdfd68b94.dl.dropboxusercontent.com/cd/0/inline/A7GYQf9JsgvhHnf9Q25j02mSiGYtmzFK16hroqkYAKAqxL_P78RWZiOz0-wXKAgPjBiUL_289a4qbIsk6nQNmcg_MTHUYKnlc7hv-ixrNJhw3zJ9WbucAb0_gG9D5oQXLfE/file\n",
            "Resolving uc6935041df1672aa6acdfd68b94.dl.dropboxusercontent.com (uc6935041df1672aa6acdfd68b94.dl.dropboxusercontent.com)... 162.125.5.15, 2620:100:601d:15::a27d:50f\n",
            "Connecting to uc6935041df1672aa6acdfd68b94.dl.dropboxusercontent.com (uc6935041df1672aa6acdfd68b94.dl.dropboxusercontent.com)|162.125.5.15|:443... connected.\n",
            "HTTP request sent, awaiting response... 302 Found\n",
            "Location: /cd/0/inline2/A7FllT9EFTgJ8qRPdwHcOCeB_a8qycU7VprQE-zBgGPnjODyMl6TB87I3ErNdcEa9nKaVl6rUH5CYe7L1hVwKatJvi-DqUJcvOXHqIaqZCoDUdtO5fYOMf1cOgPuB1LhSXRQIyiLtL4d-GTEi0Mygo4G6e0mDE-a3veMZxgAMRJl2DUxPqe1aJN8Gv2jqmRxWcvn-9kjqhz7p7fAqo736A-FvyyJBL-zh9pezW_HPMgZ14egwYWpPKKnzLI8W2exYh5YrfDT2pCrXSTj56Pw-dCJbYQZo83ryktO8F_2PB9xXKWdoW0zwVLa5P_PpaEmeZUVnP8k6nbsIHkAKOJDDSerbRRB4GTrHIqB_KNBTPu7_w/file [following]\n",
            "--2020-07-07 14:16:16--  https://uc6935041df1672aa6acdfd68b94.dl.dropboxusercontent.com/cd/0/inline2/A7FllT9EFTgJ8qRPdwHcOCeB_a8qycU7VprQE-zBgGPnjODyMl6TB87I3ErNdcEa9nKaVl6rUH5CYe7L1hVwKatJvi-DqUJcvOXHqIaqZCoDUdtO5fYOMf1cOgPuB1LhSXRQIyiLtL4d-GTEi0Mygo4G6e0mDE-a3veMZxgAMRJl2DUxPqe1aJN8Gv2jqmRxWcvn-9kjqhz7p7fAqo736A-FvyyJBL-zh9pezW_HPMgZ14egwYWpPKKnzLI8W2exYh5YrfDT2pCrXSTj56Pw-dCJbYQZo83ryktO8F_2PB9xXKWdoW0zwVLa5P_PpaEmeZUVnP8k6nbsIHkAKOJDDSerbRRB4GTrHIqB_KNBTPu7_w/file\n",
            "Reusing existing connection to uc6935041df1672aa6acdfd68b94.dl.dropboxusercontent.com:443.\n",
            "HTTP request sent, awaiting response... 200 OK\n",
            "Length: 49150094 (47M) [application/x-7z-compressed]\n",
            "Saving to: ‘happysugarlife.7z’\n",
            "\n",
            "happysugarlife.7z   100%[===================>]  46.87M  50.0MB/s    in 0.9s    \n",
            "\n",
            "2020-07-07 14:16:17 (50.0 MB/s) - ‘happysugarlife.7z’ saved [49150094/49150094]\n",
            "\n"
          ],
          "name": "stdout"
        }
      ]
    },
    {
      "cell_type": "code",
      "metadata": {
        "id": "_TvS9O9ho3m2",
        "colab_type": "code",
        "colab": {
          "base_uri": "https://localhost:8080/",
          "height": 374
        },
        "outputId": "3c1d0a87-537f-4bb3-f1a9-838382273a79"
      },
      "source": [
        "!pip install pyunpack\n",
        "!pip install patool"
      ],
      "execution_count": 3,
      "outputs": [
        {
          "output_type": "stream",
          "text": [
            "Collecting pyunpack\n",
            "  Downloading https://files.pythonhosted.org/packages/33/fd/4b64817a1d82df78553ceb1bfc5a2d7ac162da8667be586430fab9db5deb/pyunpack-0.2.1-py2.py3-none-any.whl\n",
            "Collecting easyprocess\n",
            "  Downloading https://files.pythonhosted.org/packages/48/3c/75573613641c90c6d094059ac28adb748560d99bd27ee6f80cce398f404e/EasyProcess-0.3-py2.py3-none-any.whl\n",
            "Collecting entrypoint2\n",
            "  Downloading https://files.pythonhosted.org/packages/46/0a/6156f1bc14a44094cff75bb6ecefe1f8e8a12cfff66379ba3d52d0916c49/entrypoint2-0.2.1-py2.py3-none-any.whl\n",
            "Collecting argparse\n",
            "  Downloading https://files.pythonhosted.org/packages/f2/94/3af39d34be01a24a6e65433d19e107099374224905f1e0cc6bbe1fd22a2f/argparse-1.4.0-py2.py3-none-any.whl\n",
            "Installing collected packages: easyprocess, argparse, entrypoint2, pyunpack\n",
            "Successfully installed argparse-1.4.0 easyprocess-0.3 entrypoint2-0.2.1 pyunpack-0.2.1\n"
          ],
          "name": "stdout"
        },
        {
          "output_type": "display_data",
          "data": {
            "application/vnd.colab-display-data+json": {
              "pip_warning": {
                "packages": [
                  "argparse"
                ]
              }
            }
          },
          "metadata": {
            "tags": []
          }
        },
        {
          "output_type": "stream",
          "text": [
            "Collecting patool\n",
            "\u001b[?25l  Downloading https://files.pythonhosted.org/packages/43/94/52243ddff508780dd2d8110964320ab4851134a55ab102285b46e740f76a/patool-1.12-py2.py3-none-any.whl (77kB)\n",
            "\r\u001b[K     |████▎                           | 10kB 18.8MB/s eta 0:00:01\r\u001b[K     |████████▌                       | 20kB 1.7MB/s eta 0:00:01\r\u001b[K     |████████████▊                   | 30kB 2.3MB/s eta 0:00:01\r\u001b[K     |█████████████████               | 40kB 2.6MB/s eta 0:00:01\r\u001b[K     |█████████████████████▏          | 51kB 2.0MB/s eta 0:00:01\r\u001b[K     |█████████████████████████▍      | 61kB 2.2MB/s eta 0:00:01\r\u001b[K     |█████████████████████████████▋  | 71kB 2.5MB/s eta 0:00:01\r\u001b[K     |████████████████████████████████| 81kB 2.2MB/s \n",
            "\u001b[?25hInstalling collected packages: patool\n",
            "Successfully installed patool-1.12\n"
          ],
          "name": "stdout"
        }
      ]
    },
    {
      "cell_type": "code",
      "metadata": {
        "id": "6_obdCQrnzfU",
        "colab_type": "code",
        "colab": {}
      },
      "source": [
        "!mkdir happy_sugar_life\n",
        "!mv /content/happysugarlife.7z /content/happy_sugar_life\n"
      ],
      "execution_count": 4,
      "outputs": []
    },
    {
      "cell_type": "code",
      "metadata": {
        "id": "ZQXJ7Dvco-FX",
        "colab_type": "code",
        "colab": {
          "base_uri": "https://localhost:8080/",
          "height": 50
        },
        "outputId": "c2006a8b-91a3-43a9-812d-59833adec732"
      },
      "source": [
        "from pyunpack import Archive\n",
        "Archive(\"/content/happy_sugar_life/happysugarlife.7z\").extractall(\"/content/happy_sugar_life\")"
      ],
      "execution_count": 5,
      "outputs": [
        {
          "output_type": "stream",
          "text": [
            "tar: happysugarlife.7z: Cannot open: No such file or directory\n",
            "tar: Error is not recoverable: exiting now\n"
          ],
          "name": "stdout"
        }
      ]
    },
    {
      "cell_type": "code",
      "metadata": {
        "id": "7i_zAkLLmpFP",
        "colab_type": "code",
        "colab": {
          "base_uri": "https://localhost:8080/",
          "height": 34
        },
        "outputId": "26f65621-c741-4831-dc93-15054d3d3b46"
      },
      "source": [
        "import imageio\n",
        "\n",
        "img_arr = imageio.imread('/content/happy_sugar_life/Happy Sugar Life/Satou/Satou_564 copy.png')\n",
        "#img_arr = imageio.imread('/content/head3.png')\n",
        "img_arr.shape"
      ],
      "execution_count": 51,
      "outputs": [
        {
          "output_type": "execute_result",
          "data": {
            "text/plain": [
              "(100, 100, 4)"
            ]
          },
          "metadata": {
            "tags": []
          },
          "execution_count": 51
        }
      ]
    },
    {
      "cell_type": "code",
      "metadata": {
        "id": "9GfJtG7Nrf-f",
        "colab_type": "code",
        "colab": {
          "base_uri": "https://localhost:8080/",
          "height": 167
        },
        "outputId": "b2fa0fe2-8cb3-41b3-c4d8-a8c4fe3f65c9"
      },
      "source": [
        "from PIL import Image\n",
        "t = imageio.imread('/content/happy_sugar_life/Happy Sugar Life/Satou/Satou_564 copy.png')\n",
        "print(\"t is: \", t.shape)\n",
        "from torchvision import transforms\n",
        "im = transforms.ToPILImage()(t).convert(\"RGB\")\n",
        "display(im)\n",
        "print(im)\n",
        "print(im.size)"
      ],
      "execution_count": 39,
      "outputs": [
        {
          "output_type": "stream",
          "text": [
            "t is:  (100, 100, 4)\n"
          ],
          "name": "stdout"
        },
        {
          "output_type": "display_data",
          "data": {
            "image/png": "[encoded data removed]",
            "text/plain": [
              "<PIL.Image.Image image mode=RGB size=100x100 at 0x7F171638BF60>"
            ]
          },
          "metadata": {
            "tags": []
          }
        },
        {
          "output_type": "stream",
          "text": [
            "<PIL.Image.Image image mode=RGB size=100x100 at 0x7F171638BF60>\n",
            "(100, 100)\n"
          ],
          "name": "stdout"
        }
      ]
    },
    {
      "cell_type": "code",
      "metadata": {
        "id": "IP8TLE47ptdh",
        "colab_type": "code",
        "colab": {
          "base_uri": "https://localhost:8080/",
          "height": 101
        },
        "outputId": "eace28ce-c06b-43be-b10e-306ffd618613"
      },
      "source": [
        "out[2]"
      ],
      "execution_count": 53,
      "outputs": [
        {
          "output_type": "execute_result",
          "data": {
            "text/plain": [
              "tensor([[150, 150,  ..., 137, 137],\n",
              "        [150, 150,  ..., 137, 137],\n",
              "        ...,\n",
              "        [143, 143,  ..., 192, 190],\n",
              "        [144, 144,  ..., 190, 190]], dtype=torch.uint8)"
            ]
          },
          "metadata": {
            "tags": []
          },
          "execution_count": 53
        }
      ]
    },
    {
      "cell_type": "code",
      "metadata": {
        "id": "NsIHW-qGmpGQ",
        "colab_type": "code",
        "colab": {
          "base_uri": "https://localhost:8080/",
          "height": 34
        },
        "outputId": "3e6e8aa5-80bc-4714-e10b-3df9c283bd75"
      },
      "source": [
        "img = torch.from_numpy(img_arr)\n",
        "out = img.permute(2, 0, 1)\n",
        "out.shape"
      ],
      "execution_count": 99,
      "outputs": [
        {
          "output_type": "execute_result",
          "data": {
            "text/plain": [
              "torch.Size([4, 100, 100])"
            ]
          },
          "metadata": {
            "tags": []
          },
          "execution_count": 99
        }
      ]
    },
    {
      "cell_type": "code",
      "metadata": {
        "id": "bacwdY-x2h_S",
        "colab_type": "code",
        "colab": {
          "base_uri": "https://localhost:8080/",
          "height": 34
        },
        "outputId": "1f6150c1-734a-4b81-e690-11ff98dcbf6e"
      },
      "source": [
        "data_dir = \"/content/happy_sugar_life/Happy Sugar Life/Satou\"\n",
        "len_f = len([name for name in os.listdir(data_dir)\n",
        "             if os.path.splitext(name)[-1] == '.png'])\n",
        "len_f"
      ],
      "execution_count": 102,
      "outputs": [
        {
          "output_type": "execute_result",
          "data": {
            "text/plain": [
              "589"
            ]
          },
          "metadata": {
            "tags": []
          },
          "execution_count": 102
        }
      ]
    },
    {
      "cell_type": "markdown",
      "metadata": {
        "id": "nWD8mCCe2kfO",
        "colab_type": "text"
      },
      "source": [
        ""
      ]
    },
    {
      "cell_type": "code",
      "metadata": {
        "id": "nVdWnjwvmpGt",
        "colab_type": "code",
        "colab": {}
      },
      "source": [
        "batch_size = len_f \n",
        "batch = torch.zeros(len_f, 4, 100, 100, dtype=torch.uint8)"
      ],
      "execution_count": 104,
      "outputs": []
    },
    {
      "cell_type": "code",
      "metadata": {
        "id": "axlkIrEUqSyv",
        "colab_type": "code",
        "colab": {
          "base_uri": "https://localhost:8080/",
          "height": 34
        },
        "outputId": "8a919f08-86ab-445d-b18e-c63949377a3f"
      },
      "source": [
        "out.shape, batch.shape"
      ],
      "execution_count": 106,
      "outputs": [
        {
          "output_type": "execute_result",
          "data": {
            "text/plain": [
              "(torch.Size([4, 100, 100]), torch.Size([589, 4, 100, 100]))"
            ]
          },
          "metadata": {
            "tags": []
          },
          "execution_count": 106
        }
      ]
    },
    {
      "cell_type": "code",
      "metadata": {
        "id": "p-Tlkrh1xCLO",
        "colab_type": "code",
        "colab": {}
      },
      "source": [
        ""
      ],
      "execution_count": null,
      "outputs": []
    },
    {
      "cell_type": "code",
      "metadata": {
        "id": "unCnnfIMwh31",
        "colab_type": "code",
        "colab": {
          "base_uri": "https://localhost:8080/",
          "height": 34
        },
        "outputId": "35e60edf-a8d2-46c6-8fce-49e58e162396"
      },
      "source": [
        "filenames = [name for name in os.listdir(data_dir)\n",
        "             if os.path.splitext(name)[-1] == '.png']\n",
        "len(filenames)"
      ],
      "execution_count": 107,
      "outputs": [
        {
          "output_type": "execute_result",
          "data": {
            "text/plain": [
              "589"
            ]
          },
          "metadata": {
            "tags": []
          },
          "execution_count": 107
        }
      ]
    },
    {
      "cell_type": "code",
      "metadata": {
        "scrolled": true,
        "id": "OIogxMVEmpHJ",
        "colab_type": "code",
        "colab": {}
      },
      "source": [
        "import os\n",
        "\n",
        "\n",
        "filenames = [name for name in os.listdir(data_dir)\n",
        "             if os.path.splitext(name)[-1] == '.png']\n",
        "for i, filename in enumerate(filenames):\n",
        "    img_arr = imageio.imread(os.path.join(data_dir, filename))\n",
        "    img_t = torch.from_numpy(img_arr)\n",
        "    img_t = img_t.permute(2, 0, 1)\n",
        "    img_t = img_t[:3] # <1>\n",
        "    batch[i] = img_t"
      ],
      "execution_count": 109,
      "outputs": []
    },
    {
      "cell_type": "code",
      "metadata": {
        "id": "KaU1S9N2mpHq",
        "colab_type": "code",
        "colab": {}
      },
      "source": [
        "batch = batch.float()\n",
        "batch /= 255.0"
      ],
      "execution_count": 110,
      "outputs": []
    },
    {
      "cell_type": "code",
      "metadata": {
        "id": "u-5d9ttBmpIV",
        "colab_type": "code",
        "colab": {}
      },
      "source": [
        "n_channels = batch.shape[1]\n",
        "for c in range(n_channels):\n",
        "    mean = torch.mean(batch[:, c])\n",
        "    std = torch.std(batch[:, c])\n",
        "    batch[:, c] = (batch[:, c] - mean) / std"
      ],
      "execution_count": 111,
      "outputs": []
    },
    {
      "cell_type": "code",
      "metadata": {
        "id": "NCcQnL7p0ETS",
        "colab_type": "code",
        "colab": {
          "base_uri": "https://localhost:8080/",
          "height": 34
        },
        "outputId": "eaa8fab9-9b85-498c-9580-6a1f8e2d9b1d"
      },
      "source": [
        "batch.shape"
      ],
      "execution_count": 112,
      "outputs": [
        {
          "output_type": "execute_result",
          "data": {
            "text/plain": [
              "torch.Size([589, 4, 100, 100])"
            ]
          },
          "metadata": {
            "tags": []
          },
          "execution_count": 112
        }
      ]
    },
    {
      "cell_type": "code",
      "metadata": {
        "id": "Urcn3vgO0IIN",
        "colab_type": "code",
        "colab": {
          "base_uri": "https://localhost:8080/",
          "height": 34
        },
        "outputId": "66c9ecb5-515f-4b93-9485-2c657ba44676"
      },
      "source": [
        "batch[:, 0].shape"
      ],
      "execution_count": 84,
      "outputs": [
        {
          "output_type": "execute_result",
          "data": {
            "text/plain": [
              "torch.Size([3, 100, 100])"
            ]
          },
          "metadata": {
            "tags": []
          },
          "execution_count": 84
        }
      ]
    },
    {
      "cell_type": "code",
      "metadata": {
        "id": "ZVepZOL71FdZ",
        "colab_type": "code",
        "colab": {
          "base_uri": "https://localhost:8080/",
          "height": 34
        },
        "outputId": "ee72e4a6-4a99-4370-8034-6a75a1a7f010"
      },
      "source": [
        "len(batch[0,0,1].shape)"
      ],
      "execution_count": 96,
      "outputs": [
        {
          "output_type": "execute_result",
          "data": {
            "text/plain": [
              "1"
            ]
          },
          "metadata": {
            "tags": []
          },
          "execution_count": 96
        }
      ]
    }
  ]
}